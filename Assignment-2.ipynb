{
 "cells": [
  {
   "cell_type": "markdown",
   "id": "d26fd1f3-8c5a-42d2-9966-e5612a98072f",
   "metadata": {},
   "source": [
    "Answer-1"
   ]
  },
  {
   "cell_type": "code",
   "execution_count": 2,
   "id": "7c1576a8-1e71-4596-82f3-45314ccfab6c",
   "metadata": {},
   "outputs": [
    {
     "name": "stdin",
     "output_type": "stream",
     "text": [
      "Please Enter Your Age:  12\n"
     ]
    },
    {
     "name": "stdout",
     "output_type": "stream",
     "text": [
      "Child\n"
     ]
    }
   ],
   "source": [
    "age = int(input(\"Please Enter Your Age: \"))\n",
    "if 0<= age <= 12:\n",
    "    print(\"Child\")\n",
    "elif 13 <= age <= 19:\n",
    "    print(\"Teenager\")\n",
    "elif 20 <= age <= 64:\n",
    "    print(\"Adult\")\n",
    "else:\n",
    "    print(\"Senior\")"
   ]
  },
  {
   "cell_type": "markdown",
   "id": "e1825bab-daa0-4864-be1e-737447c36c62",
   "metadata": {},
   "source": [
    "Answer-2"
   ]
  },
  {
   "cell_type": "code",
   "execution_count": 3,
   "id": "c71fc865-d208-46bd-b196-457b73b2a165",
   "metadata": {},
   "outputs": [
    {
     "name": "stdin",
     "output_type": "stream",
     "text": [
      "Enter your membership status Premium\n",
      "Enter the purchase amount:  1000\n"
     ]
    },
    {
     "name": "stdout",
     "output_type": "stream",
     "text": [
      "Not eligible for discount\n"
     ]
    }
   ],
   "source": [
    "membership_status = input(\"Enter your membership status\")\n",
    "purchase_amount = float(input(\"Enter the purchase amount: \"))\n",
    "if (membership_status == \"premium\" and purchase_amount >= 1000) or (membership_status == \"regular\" and purchase_amount >= 2000):\n",
    "    print(\"Eligible for discount\")\n",
    "else:\n",
    "    print(\"Not eligible for discount\")"
   ]
  },
  {
   "cell_type": "code",
   "execution_count": null,
   "id": "b63635e9-7dc9-4951-a436-e9ecad257aba",
   "metadata": {},
   "outputs": [],
   "source": []
  },
  {
   "cell_type": "markdown",
   "id": "d8561980-03b7-4660-b37f-4ce6732e7c6e",
   "metadata": {},
   "source": [
    "Answer-3"
   ]
  },
  {
   "cell_type": "code",
   "execution_count": 4,
   "id": "de85ad64-1d9b-4cd5-bc1c-0cb40a9a6614",
   "metadata": {},
   "outputs": [
    {
     "name": "stdin",
     "output_type": "stream",
     "text": [
      "Enter your age:  18\n",
      "Enter your citizenship status (citizen or non-citizen):  citizen\n"
     ]
    },
    {
     "name": "stdout",
     "output_type": "stream",
     "text": [
      "Eligible to vote\n"
     ]
    }
   ],
   "source": [
    "age = int(input(\"Enter your age: \"))\n",
    "citizenship_status = input(\"Enter your citizenship status (citizen or non-citizen): \")\n",
    "if age >= 18 and citizenship_status.lower() == \"citizen\":\n",
    "    print(\"Eligible to vote\")\n",
    "elif age >= 16 and citizenship_status.lower() == \"citizen\":\n",
    "    print(\"Eligible to vote\")\n",
    "else:\n",
    "    print(\"Not eligible to vote\")"
   ]
  },
  {
   "cell_type": "markdown",
   "id": "4ce7deea-e374-4540-9aa2-8efec6f30362",
   "metadata": {},
   "source": [
    "Answer-4"
   ]
  },
  {
   "cell_type": "code",
   "execution_count": 5,
   "id": "18b67633-a039-4920-a3e5-14628aae6c32",
   "metadata": {},
   "outputs": [
    {
     "name": "stdin",
     "output_type": "stream",
     "text": [
      "Enter performance rating (excellent, good, satisfactory):  excellent\n",
      "Enter years of service:  5\n"
     ]
    },
    {
     "name": "stdout",
     "output_type": "stream",
     "text": [
      "Eligible for bonus\n"
     ]
    }
   ],
   "source": [
    "performance_rating = input(\"Enter performance rating (excellent, good, satisfactory): \").lower()\n",
    "years_of_service = int(input(\"Enter years of service: \"))\n",
    "if performance_rating == \"excellent\" and years_of_service >= 5:\n",
    "    print(\"Eligible for bonus\")\n",
    "elif performance_rating == \"good\" and years_of_service >= 10:\n",
    "    print(\"Eligible for bonus\")\n",
    "elif performance_rating == \"satisfactory\" and years_of_service >= 15:\n",
    "    print(\"Eligible for bonus\")\n",
    "else:\n",
    "    print(\"Not eligible for bonus\")"
   ]
  },
  {
   "cell_type": "markdown",
   "id": "6265ecad-c5a4-4a6d-af86-0f52bc0c4759",
   "metadata": {},
   "source": [
    "Answer-5"
   ]
  },
  {
   "cell_type": "code",
   "execution_count": 6,
   "id": "7a944651-2478-4564-a439-555eff5436d5",
   "metadata": {},
   "outputs": [
    {
     "name": "stdout",
     "output_type": "stream",
     "text": [
      "Modified text: I'm_learning_Python_programming\n",
      "Number of underscores: 3\n",
      "Position of the first underscore: 3\n"
     ]
    }
   ],
   "source": [
    "text = \"I'm learning Python programming\"\n",
    "modified_text = text.replace(' ', '_')\n",
    "underscore_count = modified_text.count('_')\n",
    "first_underscore_position = modified_text.find('_')\n",
    "print(\"Modified text:\", modified_text)\n",
    "print(\"Number of underscores:\", underscore_count)\n",
    "print(\"Position of the first underscore:\", first_underscore_position)"
   ]
  },
  {
   "cell_type": "markdown",
   "id": "0f894ba8-d647-4ed2-8460-d4eededb0ff4",
   "metadata": {},
   "source": [
    "Answer-6"
   ]
  },
  {
   "cell_type": "markdown",
   "id": "366b2f8f-722e-4b79-ace7-b810a1bd0cec",
   "metadata": {},
   "source": [
    "### input_string = input(\"Enter a string: \")\n",
    "print(input_string[:-3])\n",
    "print(input_string[::2])\n",
    "print(input_string[::-1])"
   ]
  },
  {
   "cell_type": "markdown",
   "id": "0e040890-39ff-454f-bb92-2a8153b84a4b",
   "metadata": {},
   "source": [
    "Answer-7"
   ]
  },
  {
   "cell_type": "code",
   "execution_count": 8,
   "id": "95ad45bf-900d-4fc4-af8f-55f404843930",
   "metadata": {},
   "outputs": [
    {
     "name": "stdout",
     "output_type": "stream",
     "text": [
      "Python learning are We World, Hello\n"
     ]
    }
   ],
   "source": [
    "def reverse_sentence(sentence):\n",
    "    words = sentence.split(' ')\n",
    "    reversed_words = words[::-1]\n",
    "    reversed_sentence = ' '.join(reversed_words)\n",
    "    return reversed_sentence\n",
    "text = \"Hello World, We are learning Python\"\n",
    "reversed_text = reverse_sentence(text)\n",
    "print(reversed_text)"
   ]
  },
  {
   "cell_type": "markdown",
   "id": "80ff94e4-9ac4-4830-9b6d-b4998b0f9122",
   "metadata": {},
   "source": [
    "Answer-8"
   ]
  },
  {
   "cell_type": "code",
   "execution_count": 9,
   "id": "4e81dceb-af6b-433e-8670-07cca1e230e8",
   "metadata": {},
   "outputs": [
    {
     "name": "stdout",
     "output_type": "stream",
     "text": [
      "12345\n"
     ]
    }
   ],
   "source": [
    "def extract_number(product_code):\n",
    "    return product_code.replace(\"SKU-\", \"\").replace(\"-XYZ\", \"\")\n",
    "product_code = \"SKU-12345-XYZ\"\n",
    "extracted_number = extract_number(product_code)\n",
    "print(extracted_number)"
   ]
  },
  {
   "cell_type": "markdown",
   "id": "9fc5a3ef-2edd-4694-aa89-5e09eac48951",
   "metadata": {},
   "source": [
    "Answer-9"
   ]
  },
  {
   "cell_type": "code",
   "execution_count": 10,
   "id": "fd93d75d-5319-455b-8fbf-2908f06831cc",
   "metadata": {},
   "outputs": [
    {
     "name": "stdin",
     "output_type": "stream",
     "text": [
      "Enter your password:  123wa\n"
     ]
    },
    {
     "name": "stdout",
     "output_type": "stream",
     "text": [
      "Contains uppercase: False\n",
      "Contains lowercase: True\n",
      "Contains spaces: False\n",
      "Contains special characters: False\n"
     ]
    }
   ],
   "source": [
    "import string\n",
    "\n",
    "def check_password(password):\n",
    "    # Initialize flags for each condition\n",
    "    has_uppercase = False\n",
    "    has_lowercase = False\n",
    "    has_space = False\n",
    "    has_special_char = False\n",
    "\n",
    "    # Iterate through each character in the password\n",
    "    for char in password:\n",
    "        if char.isupper():\n",
    "            has_uppercase = True\n",
    "        elif char.islower():\n",
    "            has_lowercase = True\n",
    "        elif char.isspace():\n",
    "            has_space = True\n",
    "        elif char in string.punctuation:  # Check if the character is a special character\n",
    "            has_special_char = True\n",
    "\n",
    "    # Return the results of all checks\n",
    "    return {\n",
    "        'Contains uppercase': has_uppercase,\n",
    "        'Contains lowercase': has_lowercase,\n",
    "        'Contains spaces': has_space,\n",
    "        'Contains special characters': has_special_char\n",
    "    }\n",
    "\n",
    "# Get password input from the user\n",
    "user_password = input(\"Enter your password: \")\n",
    "\n",
    "# Check the password and print the results\n",
    "password_checks = check_password(user_password)\n",
    "for check, result in password_checks.items():\n",
    "    print(f\"{check}: {result}\")"
   ]
  },
  {
   "cell_type": "markdown",
   "id": "06c5f13f-095c-4027-88cc-7a7eb7f15348",
   "metadata": {},
   "source": [
    "Answer-10"
   ]
  },
  {
   "cell_type": "code",
   "execution_count": 11,
   "id": "c55f746d-121a-4fa5-9a79-146f62879154",
   "metadata": {},
   "outputs": [
    {
     "name": "stdout",
     "output_type": "stream",
     "text": [
      "Longest word: programming\n"
     ]
    }
   ],
   "source": [
    "def find_longest_word(sentence):\n",
    "    words = sentence.split()\n",
    "    longest_word = max(words, key=len)\n",
    "    return longest_word\n",
    "input_sentence = \"I love programming in Python\"\n",
    "output = find_longest_word(input_sentence)\n",
    "print(\"Longest word:\", output)"
   ]
  }
 ],
 "metadata": {
  "kernelspec": {
   "display_name": "Python 3 (ipykernel)",
   "language": "python",
   "name": "python3"
  },
  "language_info": {
   "codemirror_mode": {
    "name": "ipython",
    "version": 3
   },
   "file_extension": ".py",
   "mimetype": "text/x-python",
   "name": "python",
   "nbconvert_exporter": "python",
   "pygments_lexer": "ipython3",
   "version": "3.12.7"
  }
 },
 "nbformat": 4,
 "nbformat_minor": 5
}
