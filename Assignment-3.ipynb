{
 "cells": [
  {
   "cell_type": "code",
   "execution_count": null,
   "id": "f9b8effd-e972-4cdb-b974-0440fc5dd0ec",
   "metadata": {},
   "outputs": [],
   "source": [
    "# # Q1. Write program to check a person’s eligibility for a loan based on age, credit score, and income. This time, the\n",
    "# eligibility criteria will be:\n",
    "# The person must be 18 years or older. The person must have a credit score of 650 or higher. The person must have an\n",
    "# annual income of at least 30000 dollars If the person has a credit score of 700 or higher, they may still be eligible with\n",
    "# an income of 25000 dollars or more."
   ]
  },
  {
   "cell_type": "code",
   "execution_count": null,
   "id": "2aabeb1d-e3cd-4310-b8bf-52a44a8e93ef",
   "metadata": {},
   "outputs": [],
   "source": [
    ":# Solution - 1"
   ]
  },
  {
   "cell_type": "code",
   "execution_count": 1,
   "id": "be3176f8-ef6c-411f-953d-acc1574ec1e8",
   "metadata": {},
   "outputs": [
    {
     "name": "stdin",
     "output_type": "stream",
     "text": [
      "Enter your age:  17\n"
     ]
    },
    {
     "name": "stdout",
     "output_type": "stream",
     "text": [
      "You are not eligible for Loan. You must be at least 18 years old.\n"
     ]
    }
   ],
   "source": [
    "age = int(input(\"Enter your age: \"))\n",
    "if age >= 18:\n",
    "    credit_score = int(input(\"Enter your credit score: \"))\n",
    "    if credit_score >= 700:\n",
    "        annual_income = float(input(\"Enter your annual income in dollars: $\"))\n",
    "        if annual_income >= 25000:\n",
    "            print(\"Your are Eligible!\")\n",
    "        else:\n",
    "            print(\"You are not eligible! Your income must be at least $25,000.\")\n",
    "    elif credit_score >= 650:\n",
    "        annual_income = float(input(\"Enter your annual income in dollars: $\"))\n",
    "        if annual_income >= 30000:\n",
    "            print(\"your are Eligible!\")\n",
    "        else:\n",
    "            print(\"You are not eligible! Your income must be at least $30,000.\")\n",
    "    else:\n",
    "        print(\"You are not eligible. Your credit score must be 650 or higher.\")                   \n",
    "else:\n",
    "    print(\"You are not eligible for Loan. You must be at least 18 years old.\")"
   ]
  },
  {
   "cell_type": "code",
   "execution_count": null,
   "id": "cee2b05f-ee4b-41ae-b411-3a69f389ce0e",
   "metadata": {},
   "outputs": [],
   "source": [
    "# Q2. Write a Python program that checks if a person is an adult (age ≥ 18).\n",
    "# Take the age as input.\n",
    "# If the person is underage (age < 18), show message: \"You are underage\" and don't ask for experience.\n",
    "# If the person is an adult, take years of experience as input and print:\n",
    "# \"You have a lot of experience.\" (10+ years)\n",
    "# \"You have moderate experience.\" (5-9 years)\n",
    "# \"You are relatively new.\" (2-4 years)\n",
    "# \"You are just starting out.\" (less than 2 years)"
   ]
  },
  {
   "cell_type": "code",
   "execution_count": null,
   "id": "02b1b3e4-f765-4401-bb50-ceb8b4f8c874",
   "metadata": {},
   "outputs": [],
   "source": [
    "# Solution # 2"
   ]
  },
  {
   "cell_type": "code",
   "execution_count": 2,
   "id": "63299ad4-a6a9-44f3-8ec8-7b0f7c1596b7",
   "metadata": {},
   "outputs": [
    {
     "name": "stdin",
     "output_type": "stream",
     "text": [
      "Enter your age:  17\n"
     ]
    },
    {
     "name": "stdout",
     "output_type": "stream",
     "text": [
      "You are underage.\n"
     ]
    }
   ],
   "source": [
    "age = int(input(\"Enter your age: \"))\n",
    "if age >= 18:\n",
    "    experience = int(input(\"Enter your years of experience: \"))\n",
    "    if experience >= 10:\n",
    "        print(\"You have a lot of experience.\")\n",
    "    elif 5 <= experience <= 9:\n",
    "        print(\"You have moderate experience.\")\n",
    "    elif 2 <= experience <= 4:\n",
    "        print(\"You are relatively new.\")\n",
    "    else:\n",
    "        print(\"You are just starting out.\")\n",
    "else:\n",
    "    print(\"You are underage.\")"
   ]
  },
  {
   "cell_type": "code",
   "execution_count": null,
   "id": "e4092772-a8ac-40f7-8f51-a061b885a24b",
   "metadata": {},
   "outputs": [],
   "source": [
    "# Q4. Write a Python program that asks the user to enter an email address. The program should check if the email\n",
    "# contains the characters @ and \".\" (ignoring case). If either character is present, print \"Email format is valid.\"\n",
    "# Otherwise, print \"Invalid email format.\""
   ]
  },
  {
   "cell_type": "code",
   "execution_count": null,
   "id": "b59de68a-a881-4038-a6a7-5a3e70d5100e",
   "metadata": {},
   "outputs": [],
   "source": [
    "# Solution - 4"
   ]
  },
  {
   "cell_type": "code",
   "execution_count": 20,
   "id": "3fff5bc4-955f-48de-a199-86b5558fbbda",
   "metadata": {},
   "outputs": [
    {
     "name": "stdin",
     "output_type": "stream",
     "text": [
      "Please enter your email address:  zaib24live.com\n"
     ]
    },
    {
     "name": "stdout",
     "output_type": "stream",
     "text": [
      "Invalid email format.\n"
     ]
    }
   ],
   "source": [
    "email = input(\"Please enter your email address: \")\n",
    "if '@' in email and '.' in email:\n",
    "    print(\"Email format is valid.\")\n",
    "else:\n",
    "    print(\"Invalid email format.\")"
   ]
  },
  {
   "cell_type": "code",
   "execution_count": null,
   "id": "e08e569f-a926-40cb-bfa2-ebef96a6f1e0",
   "metadata": {},
   "outputs": [],
   "source": [
    "# Q5. Write a python program to know data type of each element stored in a tuple, append the data types in a list.\n",
    "# Show final output in a list as data types of tuple elements\n",
    "# x = (11,22.333,'apple',[1,2,3],('a','b'))"
   ]
  },
  {
   "cell_type": "code",
   "execution_count": null,
   "id": "8c584dba-b03a-4563-8d7b-7660500e43ff",
   "metadata": {},
   "outputs": [],
   "source": [
    "# Solution - 5"
   ]
  },
  {
   "cell_type": "code",
   "execution_count": 69,
   "id": "03727e6a-4615-4cc8-97e9-2a6ea50b85a4",
   "metadata": {},
   "outputs": [
    {
     "name": "stdout",
     "output_type": "stream",
     "text": [
      "Data types of tuple elements: [<class 'int'>, <class 'float'>, <class 'str'>, <class 'list'>, <class 'tuple'>]\n"
     ]
    }
   ],
   "source": [
    "x = (11, 22.333, 'apple', [1, 2, 3], ('a', 'b'))\n",
    "data_type = []\n",
    "for elements in x:\n",
    "    data_type.append(type(elements))\n",
    "print(\"Data types of tuple elements:\", data_type)"
   ]
  },
  {
   "cell_type": "code",
   "execution_count": null,
   "id": "827df442-454e-49fd-9ea1-b1bf1cb6a988",
   "metadata": {},
   "outputs": [],
   "source": [
    "# Q8. Write a Python program to store and display a book's title, author, year of publication, and price using a tuple.\n",
    "# Instructions:\n",
    "# Create a tuple to store the book details.\n",
    "# Ask the user for the book's title, author, year, and price.\n",
    "# # Display the stored book information."
   ]
  },
  {
   "cell_type": "code",
   "execution_count": null,
   "id": "ac18b89f-3aef-41f5-a866-5daf065f6572",
   "metadata": {},
   "outputs": [],
   "source": [
    "# Solution - 8"
   ]
  },
  {
   "cell_type": "code",
   "execution_count": 4,
   "id": "4575d728-ab73-4305-9079-cadd649ef96a",
   "metadata": {},
   "outputs": [
    {
     "name": "stdin",
     "output_type": "stream",
     "text": [
      "Enter the book's title:  Turkey History\n",
      "Enter the author's name:  Uzgun\n",
      "Enter the year of publication:  2010\n",
      "Enter the price of the book:  1000\n"
     ]
    },
    {
     "name": "stdout",
     "output_type": "stream",
     "text": [
      "\n",
      "Stored Book Information:\n",
      "Title: Turkey History\n",
      "Author: Uzgun\n",
      "Year of Publication: 2010\n",
      "Price: $1000\n"
     ]
    }
   ],
   "source": [
    "title = input(\"Enter the book's title: \")\n",
    "author = input(\"Enter the author's name: \")\n",
    "year = int(input(\"Enter the year of publication: \"))\n",
    "price = int(input(\"Enter the price of the book: \"))\n",
    "book_details = (title, author, year, price)\n",
    "\n",
    "print(\"\\nStored Book Information:\")\n",
    "print(f\"Title: {book_details[0]}\")\n",
    "print(f\"Author: {book_details[1]}\")\n",
    "print(f\"Year of Publication: {book_details[2]}\")\n",
    "print(f\"Price: ${book_details[3]}\")\n"
   ]
  },
  {
   "cell_type": "code",
   "execution_count": null,
   "id": "c06fcb5d-faaf-4062-ab95-0a25dc80f2b7",
   "metadata": {},
   "outputs": [],
   "source": [
    "# Q9. Write a program to check if a user’s chosen subject is available in the list of offered subjects.\n",
    "# Instructions:\n",
    "# Given a list of subjects, ask the user to input a subject.\n",
    "# Display whether the subject is available or not."
   ]
  },
  {
   "cell_type": "code",
   "execution_count": null,
   "id": "4d6f4287-a0c6-4f75-b176-e3f975707dca",
   "metadata": {},
   "outputs": [],
   "source": [
    "# Solutin - 9"
   ]
  },
  {
   "cell_type": "code",
   "execution_count": 3,
   "id": "c72e2ee4-0c01-409f-83b3-dc6688c11442",
   "metadata": {},
   "outputs": [
    {
     "name": "stdin",
     "output_type": "stream",
     "text": [
      "Enter the subject you want to check:  english\n"
     ]
    },
    {
     "name": "stdout",
     "output_type": "stream",
     "text": [
      "The subject 'English' is available.\n"
     ]
    }
   ],
   "source": [
    "offered_subjects = [\"Mathematics\", \"Physics\", \"Chemistry\", \"Biology\", \"Computer Science\", \"English\"]\n",
    "user_subject = input(\"Enter the subject you want to check: \").capitalize()\n",
    "if user_subject in offered_subjects:\n",
    "    print(f\"The subject '{user_subject}' is available.\")\n",
    "else:\n",
    "    print(f\"The subject '{user_subject}' is not available.\")"
   ]
  },
  {
   "cell_type": "code",
   "execution_count": null,
   "id": "ca931b1f-5dce-4106-9623-1f52cf1f4d18",
   "metadata": {},
   "outputs": [],
   "source": [
    "# # Question for Hard working learners (Not Mandatory)\n",
    "# Write a Python program that asks the user to enter the current temperature in Celsius and checks whether it's\n",
    "# freezing, normal, or hot based on predefined temperature values.\"\n",
    "# Assignment Requirements:\n",
    "# Input: The user will be asked to enter the current temperature in Celsius.\n",
    "# Predefined values:\n",
    "# Freezing: -5\n",
    "# Normal: 25\n",
    "# Hot: 40"
   ]
  },
  {
   "cell_type": "code",
   "execution_count": null,
   "id": "51ad85f4-358c-489d-835d-2d99b19dd0f4",
   "metadata": {},
   "outputs": [],
   "source": [
    "# Solution"
   ]
  },
  {
   "cell_type": "code",
   "execution_count": 2,
   "id": "be3d440d-5c9a-432a-a1eb-0267cde5d164",
   "metadata": {},
   "outputs": [
    {
     "name": "stdin",
     "output_type": "stream",
     "text": [
      "Enter the current temperature in Celsius:  -5\n"
     ]
    },
    {
     "name": "stdout",
     "output_type": "stream",
     "text": [
      "It's freezing!\n"
     ]
    }
   ],
   "source": [
    "temperature = float(input(\"Enter the current temperature in Celsius: \"))\n",
    "freezing_temp = -5\n",
    "normal_temp = 25\n",
    "hot_temp = 40\n",
    "if temperature <= freezing_temp:\n",
    "    print(\"It's freezing!\")\n",
    "elif temperature <= normal_temp:\n",
    "    print(\"The temperature is normal.\")\n",
    "else:\n",
    "    print(\"It's hot!\")"
   ]
  }
 ],
 "metadata": {
  "kernelspec": {
   "display_name": "Python 3 (ipykernel)",
   "language": "python",
   "name": "python3"
  },
  "language_info": {
   "codemirror_mode": {
    "name": "ipython",
    "version": 3
   },
   "file_extension": ".py",
   "mimetype": "text/x-python",
   "name": "python",
   "nbconvert_exporter": "python",
   "pygments_lexer": "ipython3",
   "version": "3.12.7"
  }
 },
 "nbformat": 4,
 "nbformat_minor": 5
}
