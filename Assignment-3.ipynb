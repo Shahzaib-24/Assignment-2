{
 "cells": [
  {
   "cell_type": "code",
   "execution_count": null,
   "id": "f9b8effd-e972-4cdb-b974-0440fc5dd0ec",
   "metadata": {},
   "outputs": [],
   "source": [
    "# # Q1. Write program to check a person’s eligibility for a loan based on age, credit score, and income. This time, the\n",
    "# eligibility criteria will be:\n",
    "# The person must be 18 years or older. The person must have a credit score of 650 or higher. The person must have an\n",
    "# annual income of at least 30000 dollars If the person has a credit score of 700 or higher, they may still be eligible with\n",
    "# an income of 25000 dollars or more."
   ]
  },
  {
   "cell_type": "code",
   "execution_count": null,
   "id": "2aabeb1d-e3cd-4310-b8bf-52a44a8e93ef",
   "metadata": {},
   "outputs": [],
   "source": [
    ":# Solution - 1"
   ]
  },
  {
   "cell_type": "code",
   "execution_count": 1,
   "id": "be3176f8-ef6c-411f-953d-acc1574ec1e8",
   "metadata": {},
   "outputs": [
    {
     "name": "stdin",
     "output_type": "stream",
     "text": [
      "Enter your age:  17\n"
     ]
    },
    {
     "name": "stdout",
     "output_type": "stream",
     "text": [
      "You are not eligible for Loan. You must be at least 18 years old.\n"
     ]
    }
   ],
   "source": [
    "age = int(input(\"Enter your age: \"))\n",
    "if age >= 18:\n",
    "    credit_score = int(input(\"Enter your credit score: \"))\n",
    "    if credit_score >= 700:\n",
    "        annual_income = float(input(\"Enter your annual income in dollars: $\"))\n",
    "        if annual_income >= 25000:\n",
    "            print(\"Your are Eligible!\")\n",
    "        else:\n",
    "            print(\"You are not eligible! Your income must be at least $25,000.\")\n",
    "    elif credit_score >= 650:\n",
    "        annual_income = float(input(\"Enter your annual income in dollars: $\"))\n",
    "        if annual_income >= 30000:\n",
    "            print(\"your are Eligible!\")\n",
    "        else:\n",
    "            print(\"You are not eligible! Your income must be at least $30,000.\")\n",
    "    else:\n",
    "        print(\"You are not eligible. Your credit score must be 650 or higher.\")                   \n",
    "else:\n",
    "    print(\"You are not eligible for Loan. You must be at least 18 years old.\")"
   ]
  },
  {
   "cell_type": "code",
   "execution_count": null,
   "id": "cee2b05f-ee4b-41ae-b411-3a69f389ce0e",
   "metadata": {},
   "outputs": [],
   "source": [
    "# Q2. Write a Python program that checks if a person is an adult (age ≥ 18).\n",
    "# Take the age as input.\n",
    "# If the person is underage (age < 18), show message: \"You are underage\" and don't ask for experience.\n",
    "# If the person is an adult, take years of experience as input and print:\n",
    "# \"You have a lot of experience.\" (10+ years)\n",
    "# \"You have moderate experience.\" (5-9 years)\n",
    "# \"You are relatively new.\" (2-4 years)\n",
    "# \"You are just starting out.\" (less than 2 years)"
   ]
  },
  {
   "cell_type": "code",
   "execution_count": null,
   "id": "02b1b3e4-f765-4401-bb50-ceb8b4f8c874",
   "metadata": {},
   "outputs": [],
   "source": [
    "# Solution # 2"
   ]
  },
  {
   "cell_type": "code",
   "execution_count": 2,
   "id": "63299ad4-a6a9-44f3-8ec8-7b0f7c1596b7",
   "metadata": {},
   "outputs": [
    {
     "name": "stdin",
     "output_type": "stream",
     "text": [
      "Enter your age:  17\n"
     ]
    },
    {
     "name": "stdout",
     "output_type": "stream",
     "text": [
      "You are underage.\n"
     ]
    }
   ],
   "source": [
    "age = int(input(\"Enter your age: \"))\n",
    "if age >= 18:\n",
    "    experience = int(input(\"Enter your years of experience: \"))\n",
    "    if experience >= 10:\n",
    "        print(\"You have a lot of experience.\")\n",
    "    elif 5 <= experience <= 9:\n",
    "        print(\"You have moderate experience.\")\n",
    "    elif 2 <= experience <= 4:\n",
    "        print(\"You are relatively new.\")\n",
    "    else:\n",
    "        print(\"You are just starting out.\")\n",
    "else:\n",
    "    print(\"You are underage.\")"
   ]
  },
  {
   "cell_type": "code",
   "execution_count": null,
   "id": "e4092772-a8ac-40f7-8f51-a061b885a24b",
   "metadata": {},
   "outputs": [],
   "source": [
    "# Q4. Write a Python program that asks the user to enter an email address. The program should check if the email\n",
    "# contains the characters @ and \".\" (ignoring case). If either character is present, print \"Email format is valid.\"\n",
    "# Otherwise, print \"Invalid email format.\""
   ]
  },
  {
   "cell_type": "code",
   "execution_count": null,
   "id": "b59de68a-a881-4038-a6a7-5a3e70d5100e",
   "metadata": {},
   "outputs": [],
   "source": [
    "# Solution - 4"
   ]
  },
  {
   "cell_type": "code",
   "execution_count": 20,
   "id": "3fff5bc4-955f-48de-a199-86b5558fbbda",
   "metadata": {},
   "outputs": [
    {
     "name": "stdin",
     "output_type": "stream",
     "text": [
      "Please enter your email address:  zaib24live.com\n"
     ]
    },
    {
     "name": "stdout",
     "output_type": "stream",
     "text": [
      "Invalid email format.\n"
     ]
    }
   ],
   "source": [
    "email = input(\"Please enter your email address: \")\n",
    "if '@' in email and '.' in email:\n",
    "    print(\"Email format is valid.\")\n",
    "else:\n",
    "    print(\"Invalid email format.\")"
   ]
  },
  {
   "cell_type": "code",
   "execution_count": null,
   "id": "e08e569f-a926-40cb-bfa2-ebef96a6f1e0",
   "metadata": {},
   "outputs": [],
   "source": [
    "# Q5. Write a python program to know data type of each element stored in a tuple, append the data types in a list.\n",
    "# Show final output in a list as data types of tuple elements\n",
    "# x = (11,22.333,'apple',[1,2,3],('a','b'))"
   ]
  },
  {
   "cell_type": "code",
   "execution_count": null,
   "id": "8c584dba-b03a-4563-8d7b-7660500e43ff",
   "metadata": {},
   "outputs": [],
   "source": [
    "# Solution - 5"
   ]
  },
  {
   "cell_type": "code",
   "execution_count": 69,
   "id": "03727e6a-4615-4cc8-97e9-2a6ea50b85a4",
   "metadata": {},
   "outputs": [
    {
     "name": "stdout",
     "output_type": "stream",
     "text": [
      "Data types of tuple elements: [<class 'int'>, <class 'float'>, <class 'str'>, <class 'list'>, <class 'tuple'>]\n"
     ]
    }
   ],
   "source": [
    "x = (11, 22.333, 'apple', [1, 2, 3], ('a', 'b'))\n",
    "data_type = []\n",
    "for elements in x:\n",
    "    data_type.append(type(elements))\n",
    "print(\"Data types of tuple elements:\", data_type)"
   ]
  },
  {
   "cell_type": "code",
   "execution_count": null,
   "id": "827df442-454e-49fd-9ea1-b1bf1cb6a988",
   "metadata": {},
   "outputs": [],
   "source": [
    "# Q8. Write a Python program to store and display a book's title, author, year of publication, and price using a tuple.\n",
    "# Instructions:\n",
    "# Create a tuple to store the book details.\n",
    "# Ask the user for the book's title, author, year, and price.\n",
    "# # Display the stored book information."
   ]
  },
  {
   "cell_type": "code",
   "execution_count": null,
   "id": "ac18b89f-3aef-41f5-a866-5daf065f6572",
   "metadata": {},
   "outputs": [],
   "source": [
    "# Solution - 8"
   ]
  },
  {
   "cell_type": "code",
   "execution_count": 19,
   "id": "4575d728-ab73-4305-9079-cadd649ef96a",
   "metadata": {},
   "outputs": [
    {
     "name": "stdin",
     "output_type": "stream",
     "text": [
      "Enter the book's title:  Turkey\n",
      "Enter the author's name:  Uzgun\n",
      "Enter the year of publication:  2010\n",
      "Enter the price of the book:  1000\n"
     ]
    },
    {
     "name": "stdout",
     "output_type": "stream",
     "text": [
      "\n",
      "Stored Book Information:\n",
      "Title: Turkey\n",
      "Author: Uzgun\n",
      "Year of Publication: 2010\n",
      "Price: $1000.0\n"
     ]
    }
   ],
   "source": [
    "title = input(\"Enter the book's title: \")\n",
    "author = input(\"Enter the author's name: \")\n",
    "year = int(input(\"Enter the year of publication: \"))\n",
    "price = float(input(\"Enter the price of the book: \"))\n",
    "book_details = (title, author, year, price)\n",
    "\n",
    "print(\"\\nStored Book Information:\")\n",
    "print(f\"Title: {book_details[0]}\")\n",
    "print(f\"Author: {book_details[1]}\")\n",
    "print(f\"Year of Publication: {book_details[2]}\")\n",
    "print(f\"Price: ${book_details[3]}\")\n"
   ]
  },
  {
   "cell_type": "code",
   "execution_count": null,
   "id": "c06fcb5d-faaf-4062-ab95-0a25dc80f2b7",
   "metadata": {},
   "outputs": [],
   "source": [
    "# Q9. Write a program to check if a user’s chosen subject is available in the list of offered subjects.\n",
    "# Instructions:\n",
    "# Given a list of subjects, ask the user to input a subject.\n",
    "# Display whether the subject is available or not."
   ]
  },
  {
   "cell_type": "code",
   "execution_count": null,
   "id": "4d6f4287-a0c6-4f75-b176-e3f975707dca",
   "metadata": {},
   "outputs": [],
   "source": [
    "# Solutin - 9"
   ]
  },
  {
   "cell_type": "code",
   "execution_count": 34,
   "id": "562c2d9d-10eb-4c25-b9e4-ce8e585868cf",
   "metadata": {},
   "outputs": [
    {
     "name": "stdin",
     "output_type": "stream",
     "text": [
      "Enter the subject you want to check:  biology\n"
     ]
    },
    {
     "name": "stdout",
     "output_type": "stream",
     "text": [
      "The subject 'Biology' is available.\n"
     ]
    }
   ],
   "source": [
    "offered_subjects = [\"Mathematics\", \"Physics\", \"Chemistry\", \"Biology\", \"Computer Science\", \"English\"]\n",
    "user_subject = input(\"Enter the subject you want to check: \").capitalize()\n",
    "if user_subject in offered_subjects:\n",
    "    print(f\"The subject '{user_subject}' is available.\")\n",
    "else:\n",
    "    print(f\"The subject '{user_subject}' is not available.\")"
   ]
  },
  {
   "cell_type": "code",
   "execution_count": null,
   "id": "ca931b1f-5dce-4106-9623-1f52cf1f4d18",
   "metadata": {},
   "outputs": [],
   "source": []
  },
  {
   "cell_type": "code",
   "execution_count": null,
   "id": "b5bd1db9-c2e2-4442-998f-a616ec96ef69",
   "metadata": {},
   "outputs": [],
   "source": []
  },
  {
   "cell_type": "code",
   "execution_count": null,
   "id": "37881f9a-a9da-485f-adf4-befa9208d59b",
   "metadata": {},
   "outputs": [],
   "source": []
  },
  {
   "cell_type": "code",
   "execution_count": null,
   "id": "be3d440d-5c9a-432a-a1eb-0267cde5d164",
   "metadata": {},
   "outputs": [],
   "source": []
  },
  {
   "cell_type": "code",
   "execution_count": null,
   "id": "bd4107f1-326b-4bd2-b57a-36688e6a1607",
   "metadata": {},
   "outputs": [],
   "source": []
  },
  {
   "cell_type": "code",
   "execution_count": null,
   "id": "e7816401-34de-4e6b-8140-9d318bbebeea",
   "metadata": {},
   "outputs": [],
   "source": []
  },
  {
   "cell_type": "code",
   "execution_count": null,
   "id": "8ad62c10-fa54-4f04-b505-6fd25f33a308",
   "metadata": {},
   "outputs": [],
   "source": []
  },
  {
   "cell_type": "code",
   "execution_count": null,
   "id": "1736833e-ce73-4173-8e6f-c31ee92981c8",
   "metadata": {},
   "outputs": [],
   "source": []
  },
  {
   "cell_type": "code",
   "execution_count": null,
   "id": "14a24ef5-07c0-423f-a237-d8f80dbdf4af",
   "metadata": {},
   "outputs": [],
   "source": []
  },
  {
   "cell_type": "code",
   "execution_count": null,
   "id": "3ce89972-90e9-4a9c-ad7b-70974fc47073",
   "metadata": {},
   "outputs": [],
   "source": []
  },
  {
   "cell_type": "code",
   "execution_count": null,
   "id": "933d0ca8-dc06-4848-a3b0-4dcacc7c966b",
   "metadata": {},
   "outputs": [],
   "source": []
  },
  {
   "cell_type": "code",
   "execution_count": null,
   "id": "cdd03321-0159-43db-a73d-076016add321",
   "metadata": {},
   "outputs": [],
   "source": []
  },
  {
   "cell_type": "code",
   "execution_count": null,
   "id": "03051f88-63b1-4c07-99ab-ba5cc8de729e",
   "metadata": {},
   "outputs": [],
   "source": []
  },
  {
   "cell_type": "code",
   "execution_count": null,
   "id": "4d563a51-37ac-4668-bf72-319eb6134ebe",
   "metadata": {},
   "outputs": [],
   "source": []
  },
  {
   "cell_type": "code",
   "execution_count": null,
   "id": "314768a3-5611-4b7d-846f-3b2c6071dfca",
   "metadata": {},
   "outputs": [],
   "source": []
  },
  {
   "cell_type": "code",
   "execution_count": null,
   "id": "24cf4796-ba00-48e8-80a9-715f5e685eaf",
   "metadata": {},
   "outputs": [],
   "source": []
  },
  {
   "cell_type": "code",
   "execution_count": null,
   "id": "615a704a-2c31-4d6b-9cba-dcc904c8ff8c",
   "metadata": {},
   "outputs": [],
   "source": []
  },
  {
   "cell_type": "code",
   "execution_count": null,
   "id": "5762a93a-0f4f-4d7d-b95e-75d288e0e9af",
   "metadata": {},
   "outputs": [],
   "source": []
  },
  {
   "cell_type": "code",
   "execution_count": null,
   "id": "0f8d83bd-8040-4be2-bd39-2642a8590db6",
   "metadata": {},
   "outputs": [],
   "source": []
  },
  {
   "cell_type": "code",
   "execution_count": null,
   "id": "69e1c06f-6e73-4be2-9d52-1319f0a36665",
   "metadata": {},
   "outputs": [],
   "source": []
  },
  {
   "cell_type": "code",
   "execution_count": null,
   "id": "a49279e0-1832-488d-ae62-e8af64b4d4aa",
   "metadata": {},
   "outputs": [],
   "source": []
  },
  {
   "cell_type": "code",
   "execution_count": null,
   "id": "dd7f0749-4dee-4e6e-aefd-1c3d700efb4b",
   "metadata": {},
   "outputs": [],
   "source": []
  },
  {
   "cell_type": "code",
   "execution_count": null,
   "id": "b0213a49-dcf9-4a1f-9ada-ac082480f5d7",
   "metadata": {},
   "outputs": [],
   "source": []
  },
  {
   "cell_type": "code",
   "execution_count": null,
   "id": "1f8ba256-d388-404f-9636-199bc136da3f",
   "metadata": {},
   "outputs": [],
   "source": []
  },
  {
   "cell_type": "code",
   "execution_count": null,
   "id": "3089fe27-4af5-4f6b-8965-15db55b44b14",
   "metadata": {},
   "outputs": [],
   "source": []
  },
  {
   "cell_type": "code",
   "execution_count": null,
   "id": "6ebf68e0-40c4-4eaa-bd92-e5bfae3eac99",
   "metadata": {},
   "outputs": [],
   "source": []
  },
  {
   "cell_type": "code",
   "execution_count": null,
   "id": "d05bcb22-f89b-49f6-ac76-6c6d84a1f58d",
   "metadata": {},
   "outputs": [],
   "source": []
  },
  {
   "cell_type": "code",
   "execution_count": null,
   "id": "7c558742-99ad-4051-bf42-3472bac0a0b7",
   "metadata": {},
   "outputs": [],
   "source": []
  },
  {
   "cell_type": "code",
   "execution_count": null,
   "id": "5d14aa17-3e1a-4404-b1c2-4ed392e8bf41",
   "metadata": {},
   "outputs": [],
   "source": []
  },
  {
   "cell_type": "code",
   "execution_count": null,
   "id": "a4fedf0b-6ae1-48e0-8020-47c92d191c00",
   "metadata": {},
   "outputs": [],
   "source": []
  },
  {
   "cell_type": "code",
   "execution_count": null,
   "id": "c2c45d87-13ea-449c-8300-4e9e5b5e1cea",
   "metadata": {},
   "outputs": [],
   "source": []
  },
  {
   "cell_type": "code",
   "execution_count": null,
   "id": "21b1f115-96b1-4e2e-84bc-6a6d01b20705",
   "metadata": {},
   "outputs": [],
   "source": []
  },
  {
   "cell_type": "code",
   "execution_count": null,
   "id": "cec473e6-fbf6-466c-99ed-0e39fd122142",
   "metadata": {},
   "outputs": [],
   "source": []
  },
  {
   "cell_type": "code",
   "execution_count": null,
   "id": "bd7303c1-503b-4f0b-ba05-c64ffca3def6",
   "metadata": {},
   "outputs": [],
   "source": []
  },
  {
   "cell_type": "code",
   "execution_count": null,
   "id": "12e4a0c5-7356-4485-a85d-2f61efae15a0",
   "metadata": {},
   "outputs": [],
   "source": []
  },
  {
   "cell_type": "code",
   "execution_count": null,
   "id": "1e4d797b-a328-48b7-b453-b7c1a8d5060e",
   "metadata": {},
   "outputs": [],
   "source": []
  },
  {
   "cell_type": "code",
   "execution_count": null,
   "id": "5edbc37b-a5a4-4a1d-b450-739f5952241d",
   "metadata": {},
   "outputs": [],
   "source": []
  },
  {
   "cell_type": "code",
   "execution_count": null,
   "id": "14ef7ec8-7cea-4dfb-851c-cca75f5ea8e1",
   "metadata": {},
   "outputs": [],
   "source": []
  },
  {
   "cell_type": "code",
   "execution_count": null,
   "id": "0f5a4a07-4dd4-4a6c-8f30-e63cc042a01a",
   "metadata": {},
   "outputs": [],
   "source": []
  },
  {
   "cell_type": "code",
   "execution_count": null,
   "id": "ee806da1-3767-4c99-af2e-84ae54d445e9",
   "metadata": {},
   "outputs": [],
   "source": []
  },
  {
   "cell_type": "code",
   "execution_count": null,
   "id": "6a6b83c1-96b3-4385-9133-4aa84a53661c",
   "metadata": {},
   "outputs": [],
   "source": []
  },
  {
   "cell_type": "code",
   "execution_count": null,
   "id": "450bd6bc-17b0-42ec-8a1d-2aa583838f66",
   "metadata": {},
   "outputs": [],
   "source": []
  },
  {
   "cell_type": "code",
   "execution_count": null,
   "id": "69fa1601-8eb2-43fa-b5c8-cee06efe4de4",
   "metadata": {},
   "outputs": [],
   "source": []
  },
  {
   "cell_type": "code",
   "execution_count": null,
   "id": "86614902-3937-40c8-8a1b-f35d562b8551",
   "metadata": {},
   "outputs": [],
   "source": []
  },
  {
   "cell_type": "code",
   "execution_count": null,
   "id": "2d27af71-e295-4052-80e9-e721c79a506c",
   "metadata": {},
   "outputs": [],
   "source": []
  },
  {
   "cell_type": "code",
   "execution_count": null,
   "id": "d2f570a9-3085-44a6-907e-bfdf973d78ef",
   "metadata": {},
   "outputs": [],
   "source": []
  },
  {
   "cell_type": "code",
   "execution_count": null,
   "id": "9b124541-d76b-41f6-a972-bbc806f2f7ea",
   "metadata": {},
   "outputs": [],
   "source": []
  },
  {
   "cell_type": "code",
   "execution_count": null,
   "id": "e15cb9eb-182c-4f06-8865-e1525013098d",
   "metadata": {},
   "outputs": [],
   "source": []
  },
  {
   "cell_type": "code",
   "execution_count": null,
   "id": "577411c2-3d40-486a-9806-f85b721ab726",
   "metadata": {},
   "outputs": [],
   "source": []
  },
  {
   "cell_type": "code",
   "execution_count": null,
   "id": "c20ceb6f-50f7-4b9e-b9af-20d127f6902f",
   "metadata": {},
   "outputs": [],
   "source": []
  },
  {
   "cell_type": "code",
   "execution_count": null,
   "id": "32a024b2-09ae-48c6-a13a-7ee9838baa06",
   "metadata": {},
   "outputs": [],
   "source": []
  },
  {
   "cell_type": "code",
   "execution_count": null,
   "id": "80033178-1454-413b-8f4e-8bdd3e949386",
   "metadata": {},
   "outputs": [],
   "source": []
  },
  {
   "cell_type": "code",
   "execution_count": null,
   "id": "1be6023d-541a-4e12-8591-68d5fc9ff5cb",
   "metadata": {},
   "outputs": [],
   "source": []
  },
  {
   "cell_type": "code",
   "execution_count": null,
   "id": "f8b94d35-a539-405d-910c-7fb00f5ab1b6",
   "metadata": {},
   "outputs": [],
   "source": []
  },
  {
   "cell_type": "code",
   "execution_count": null,
   "id": "d1370d36-aedc-45d0-8bf3-545ae65d65d6",
   "metadata": {},
   "outputs": [],
   "source": []
  },
  {
   "cell_type": "code",
   "execution_count": null,
   "id": "46b7d7b2-42ba-4318-a7c1-254853d3b37b",
   "metadata": {},
   "outputs": [],
   "source": []
  },
  {
   "cell_type": "code",
   "execution_count": null,
   "id": "87c85244-b933-4adf-9444-e5773f50caac",
   "metadata": {},
   "outputs": [],
   "source": []
  },
  {
   "cell_type": "code",
   "execution_count": null,
   "id": "b2ab6526-2f76-4f3b-b964-a702a50965f5",
   "metadata": {},
   "outputs": [],
   "source": []
  },
  {
   "cell_type": "code",
   "execution_count": null,
   "id": "1cfef6ed-03be-4d16-8e99-7ec573ea216e",
   "metadata": {},
   "outputs": [],
   "source": []
  },
  {
   "cell_type": "code",
   "execution_count": null,
   "id": "fb43ba8a-2c5c-439d-ae18-56e5b2afbd2c",
   "metadata": {},
   "outputs": [],
   "source": []
  },
  {
   "cell_type": "code",
   "execution_count": null,
   "id": "3634ce48-d40f-4d72-baa1-782c25d33083",
   "metadata": {},
   "outputs": [],
   "source": []
  },
  {
   "cell_type": "code",
   "execution_count": null,
   "id": "a8dd435b-6aaf-42bd-a533-b3066cbe3cd8",
   "metadata": {},
   "outputs": [],
   "source": []
  },
  {
   "cell_type": "code",
   "execution_count": null,
   "id": "5dce9964-fcc1-428a-ab19-e92b532c132f",
   "metadata": {},
   "outputs": [],
   "source": []
  },
  {
   "cell_type": "code",
   "execution_count": null,
   "id": "e661262e-cfb5-400c-82a3-b00b0ef6cd94",
   "metadata": {},
   "outputs": [],
   "source": []
  },
  {
   "cell_type": "code",
   "execution_count": null,
   "id": "4dfab82a-df20-4320-b933-a98de74e3c5f",
   "metadata": {},
   "outputs": [],
   "source": []
  },
  {
   "cell_type": "code",
   "execution_count": null,
   "id": "f53b4b99-9a48-4b8d-937b-53a7f00f751a",
   "metadata": {},
   "outputs": [],
   "source": []
  },
  {
   "cell_type": "code",
   "execution_count": null,
   "id": "3f10c7ec-09b8-40be-a434-83a7e537c21d",
   "metadata": {},
   "outputs": [],
   "source": []
  },
  {
   "cell_type": "code",
   "execution_count": null,
   "id": "cd8f68e2-7080-4360-a5aa-eddfb9c569de",
   "metadata": {},
   "outputs": [],
   "source": []
  },
  {
   "cell_type": "code",
   "execution_count": null,
   "id": "e87054fe-34bb-4edb-9b1e-e5f2d09f5ae9",
   "metadata": {},
   "outputs": [],
   "source": []
  },
  {
   "cell_type": "code",
   "execution_count": null,
   "id": "b10171e5-c694-469d-b630-c9fdd764d84a",
   "metadata": {},
   "outputs": [],
   "source": []
  },
  {
   "cell_type": "code",
   "execution_count": null,
   "id": "c5e29328-d9c6-4741-bf77-3bd5eb1093a9",
   "metadata": {},
   "outputs": [],
   "source": []
  },
  {
   "cell_type": "code",
   "execution_count": null,
   "id": "fb61330c-ac06-4592-80a8-4ce509605264",
   "metadata": {},
   "outputs": [],
   "source": []
  },
  {
   "cell_type": "code",
   "execution_count": null,
   "id": "dab76559-b9d9-4d9a-abac-f7217a8a0552",
   "metadata": {},
   "outputs": [],
   "source": []
  },
  {
   "cell_type": "code",
   "execution_count": null,
   "id": "e4a37c33-aff6-46fb-bd1a-3fae984e53df",
   "metadata": {},
   "outputs": [],
   "source": []
  },
  {
   "cell_type": "code",
   "execution_count": null,
   "id": "3b277b19-1ad1-4559-8cb9-e647ae546c6a",
   "metadata": {},
   "outputs": [],
   "source": []
  },
  {
   "cell_type": "code",
   "execution_count": null,
   "id": "66da4183-b24f-400c-8675-a4311c395a91",
   "metadata": {},
   "outputs": [],
   "source": []
  },
  {
   "cell_type": "code",
   "execution_count": null,
   "id": "92d1e47d-bc09-44b4-a5a0-c8b90621146c",
   "metadata": {},
   "outputs": [],
   "source": []
  },
  {
   "cell_type": "code",
   "execution_count": null,
   "id": "c84f4ce3-71bc-469b-808c-308f7d780ac1",
   "metadata": {},
   "outputs": [],
   "source": []
  },
  {
   "cell_type": "code",
   "execution_count": null,
   "id": "488d6d9f-59f1-4ee9-a913-ff32b995554e",
   "metadata": {},
   "outputs": [],
   "source": []
  },
  {
   "cell_type": "code",
   "execution_count": null,
   "id": "5784aebd-3e84-4e35-aaca-31d972c56d4d",
   "metadata": {},
   "outputs": [],
   "source": []
  },
  {
   "cell_type": "code",
   "execution_count": null,
   "id": "527fc532-2c8b-4078-b368-e3fef997f9e3",
   "metadata": {},
   "outputs": [],
   "source": []
  },
  {
   "cell_type": "code",
   "execution_count": null,
   "id": "b709ca5c-b756-4c40-a3b5-637a52ebf2dd",
   "metadata": {},
   "outputs": [],
   "source": []
  },
  {
   "cell_type": "code",
   "execution_count": null,
   "id": "39e83700-5dd5-4595-87a5-c971a1c66ec0",
   "metadata": {},
   "outputs": [],
   "source": []
  },
  {
   "cell_type": "code",
   "execution_count": null,
   "id": "af564a0c-50b5-4151-bc96-a6894b3111aa",
   "metadata": {},
   "outputs": [],
   "source": []
  },
  {
   "cell_type": "code",
   "execution_count": null,
   "id": "14f4a615-5e3e-4878-a29f-0e423b31890d",
   "metadata": {},
   "outputs": [],
   "source": []
  },
  {
   "cell_type": "code",
   "execution_count": null,
   "id": "67851467-fc3d-4c70-b9d5-399c05087651",
   "metadata": {},
   "outputs": [],
   "source": []
  },
  {
   "cell_type": "code",
   "execution_count": null,
   "id": "c4f0aa83-453d-48af-b0c3-5aec040cb1c5",
   "metadata": {},
   "outputs": [],
   "source": []
  },
  {
   "cell_type": "code",
   "execution_count": null,
   "id": "e4d6e6cc-4c7d-4f52-a101-d7af50b73902",
   "metadata": {},
   "outputs": [],
   "source": []
  },
  {
   "cell_type": "code",
   "execution_count": null,
   "id": "b31b9760-f918-48c8-be8a-47fc7a49394a",
   "metadata": {},
   "outputs": [],
   "source": []
  },
  {
   "cell_type": "code",
   "execution_count": null,
   "id": "3fafd6b9-4fe4-4e26-b721-e718238760f9",
   "metadata": {},
   "outputs": [],
   "source": []
  },
  {
   "cell_type": "code",
   "execution_count": null,
   "id": "a1a68fa7-0b51-4ae4-bdab-0d10fad6028b",
   "metadata": {},
   "outputs": [],
   "source": []
  },
  {
   "cell_type": "code",
   "execution_count": null,
   "id": "a2ccf957-d704-4b41-afc0-ba21dc9881c6",
   "metadata": {},
   "outputs": [],
   "source": []
  },
  {
   "cell_type": "code",
   "execution_count": null,
   "id": "8871d4a5-d89a-4473-9df6-a43c51910dbb",
   "metadata": {},
   "outputs": [],
   "source": []
  },
  {
   "cell_type": "code",
   "execution_count": null,
   "id": "b4f3fad1-a6d7-49fd-9528-9d57e6258d75",
   "metadata": {},
   "outputs": [],
   "source": []
  },
  {
   "cell_type": "code",
   "execution_count": null,
   "id": "72ab4d27-2ea0-4a8f-b259-326cb02f8a8e",
   "metadata": {},
   "outputs": [],
   "source": []
  },
  {
   "cell_type": "code",
   "execution_count": null,
   "id": "75cd990e-b169-4dc3-a2dc-8247f41e197b",
   "metadata": {},
   "outputs": [],
   "source": []
  },
  {
   "cell_type": "code",
   "execution_count": null,
   "id": "12860f4c-39fd-43dc-b5d1-e97732d3f775",
   "metadata": {},
   "outputs": [],
   "source": []
  },
  {
   "cell_type": "code",
   "execution_count": null,
   "id": "78c5b1ff-31ec-4511-9c20-c4dab175d448",
   "metadata": {},
   "outputs": [],
   "source": []
  },
  {
   "cell_type": "code",
   "execution_count": null,
   "id": "3e508253-6801-4c35-b876-9c4c4a13c93f",
   "metadata": {},
   "outputs": [],
   "source": []
  },
  {
   "cell_type": "code",
   "execution_count": null,
   "id": "b2c7cd73-d5f7-4332-b7de-8c417e5b3c88",
   "metadata": {},
   "outputs": [],
   "source": []
  },
  {
   "cell_type": "code",
   "execution_count": null,
   "id": "994d5d2b-63d7-4100-87a0-d6f4c21b70fc",
   "metadata": {},
   "outputs": [],
   "source": []
  },
  {
   "cell_type": "code",
   "execution_count": null,
   "id": "3f32cff1-f36b-4164-beb1-c6305a2c8705",
   "metadata": {},
   "outputs": [],
   "source": []
  },
  {
   "cell_type": "code",
   "execution_count": null,
   "id": "f5065045-43a2-4e20-b283-b9459f1666b2",
   "metadata": {},
   "outputs": [],
   "source": []
  },
  {
   "cell_type": "code",
   "execution_count": null,
   "id": "b2f069a3-58c1-46ef-9fdc-265905127c1b",
   "metadata": {},
   "outputs": [],
   "source": []
  },
  {
   "cell_type": "code",
   "execution_count": null,
   "id": "6c269920-06b1-454c-bfae-598f850ddfd5",
   "metadata": {},
   "outputs": [],
   "source": []
  },
  {
   "cell_type": "code",
   "execution_count": null,
   "id": "bb17650d-e85b-4f41-a973-68e6822954ea",
   "metadata": {},
   "outputs": [],
   "source": []
  },
  {
   "cell_type": "code",
   "execution_count": null,
   "id": "a77333d8-cdee-4ac4-8b79-e0a12507f4be",
   "metadata": {},
   "outputs": [],
   "source": []
  },
  {
   "cell_type": "code",
   "execution_count": null,
   "id": "d90b0890-f7f3-449a-8660-cbc1a33e3949",
   "metadata": {},
   "outputs": [],
   "source": []
  },
  {
   "cell_type": "code",
   "execution_count": null,
   "id": "9b3debfe-e324-49c9-a5d5-be06637bf601",
   "metadata": {},
   "outputs": [],
   "source": []
  },
  {
   "cell_type": "code",
   "execution_count": null,
   "id": "15e3b348-b6b0-49f1-be6f-bcbfb23d19b5",
   "metadata": {},
   "outputs": [],
   "source": []
  },
  {
   "cell_type": "code",
   "execution_count": null,
   "id": "8d605009-9f9f-4aa4-bd4c-3bdb756faed1",
   "metadata": {},
   "outputs": [],
   "source": []
  },
  {
   "cell_type": "code",
   "execution_count": null,
   "id": "d372791c-7fdb-4fd7-abd7-694ad7dff9a0",
   "metadata": {},
   "outputs": [],
   "source": []
  },
  {
   "cell_type": "code",
   "execution_count": null,
   "id": "3c190308-da54-45b5-9e74-357e864b3183",
   "metadata": {},
   "outputs": [],
   "source": []
  },
  {
   "cell_type": "code",
   "execution_count": null,
   "id": "2322cff3-1567-47dd-8b5e-71ad399ce54a",
   "metadata": {},
   "outputs": [],
   "source": []
  },
  {
   "cell_type": "code",
   "execution_count": null,
   "id": "13137ea7-3773-45fd-9233-8dd2b3d652b6",
   "metadata": {},
   "outputs": [],
   "source": []
  },
  {
   "cell_type": "code",
   "execution_count": null,
   "id": "670f236d-03d3-4d84-a3f7-55422163e726",
   "metadata": {},
   "outputs": [],
   "source": []
  },
  {
   "cell_type": "code",
   "execution_count": null,
   "id": "6c913bf1-4485-4273-854c-3692a9ade90b",
   "metadata": {},
   "outputs": [],
   "source": []
  },
  {
   "cell_type": "code",
   "execution_count": null,
   "id": "ef3852fc-6d4f-4dc6-8c35-eb92056760bc",
   "metadata": {},
   "outputs": [],
   "source": []
  },
  {
   "cell_type": "code",
   "execution_count": null,
   "id": "ddd0a532-83aa-42a7-b66f-f7452966f73b",
   "metadata": {},
   "outputs": [],
   "source": []
  },
  {
   "cell_type": "code",
   "execution_count": null,
   "id": "0da962ba-620b-40c8-9e00-13e03bab78db",
   "metadata": {},
   "outputs": [],
   "source": []
  },
  {
   "cell_type": "code",
   "execution_count": null,
   "id": "b967d05a-fb8f-45a9-a181-4d02431a25d1",
   "metadata": {},
   "outputs": [],
   "source": []
  },
  {
   "cell_type": "code",
   "execution_count": null,
   "id": "bc5b5f58-21fb-4e87-847d-0ccea31ffd7e",
   "metadata": {},
   "outputs": [],
   "source": []
  },
  {
   "cell_type": "code",
   "execution_count": null,
   "id": "622516bf-514b-4b38-a217-0cac33073e22",
   "metadata": {},
   "outputs": [],
   "source": []
  },
  {
   "cell_type": "code",
   "execution_count": null,
   "id": "cb14f1f4-68e4-40a8-aea6-f55235a98b43",
   "metadata": {},
   "outputs": [],
   "source": []
  },
  {
   "cell_type": "code",
   "execution_count": null,
   "id": "0bb88b39-5155-42da-8fc4-680157bd59a0",
   "metadata": {},
   "outputs": [],
   "source": []
  },
  {
   "cell_type": "code",
   "execution_count": null,
   "id": "e8a2ff5c-4e4c-4b8e-9cf4-8f536d34b083",
   "metadata": {},
   "outputs": [],
   "source": []
  },
  {
   "cell_type": "code",
   "execution_count": null,
   "id": "85027824-9f11-4c43-8186-e67e47012128",
   "metadata": {},
   "outputs": [],
   "source": []
  },
  {
   "cell_type": "code",
   "execution_count": null,
   "id": "20c311aa-9d93-4d0e-a639-513f7e6b40d2",
   "metadata": {},
   "outputs": [],
   "source": []
  },
  {
   "cell_type": "code",
   "execution_count": null,
   "id": "9f84fe4e-37b2-4a8c-a971-c41d6d009402",
   "metadata": {},
   "outputs": [],
   "source": []
  },
  {
   "cell_type": "code",
   "execution_count": null,
   "id": "8783d28e-763d-4e42-a3c4-b560ef44f523",
   "metadata": {},
   "outputs": [],
   "source": []
  },
  {
   "cell_type": "code",
   "execution_count": null,
   "id": "c93b579e-6181-450a-b987-48e1200be76f",
   "metadata": {},
   "outputs": [],
   "source": []
  },
  {
   "cell_type": "code",
   "execution_count": null,
   "id": "a324448e-f60b-476f-85f3-e45156773a59",
   "metadata": {},
   "outputs": [],
   "source": []
  },
  {
   "cell_type": "code",
   "execution_count": null,
   "id": "f071921c-4032-4d09-be02-48e5b56eeff8",
   "metadata": {},
   "outputs": [],
   "source": []
  },
  {
   "cell_type": "code",
   "execution_count": null,
   "id": "c88e141e-9a60-46c2-bd7d-c7c18cbb6725",
   "metadata": {},
   "outputs": [],
   "source": []
  },
  {
   "cell_type": "code",
   "execution_count": null,
   "id": "5e9e3404-691c-4550-bf01-7a06b09b04d4",
   "metadata": {},
   "outputs": [],
   "source": []
  },
  {
   "cell_type": "code",
   "execution_count": null,
   "id": "1dc6abea-4ac8-4e25-826d-1d2f4a8b0757",
   "metadata": {},
   "outputs": [],
   "source": []
  },
  {
   "cell_type": "code",
   "execution_count": null,
   "id": "0ddeb15c-1426-4aca-9013-f3e2bdc5cedb",
   "metadata": {},
   "outputs": [],
   "source": []
  },
  {
   "cell_type": "code",
   "execution_count": null,
   "id": "339fd941-4b82-413d-8f1f-050b3a322043",
   "metadata": {},
   "outputs": [],
   "source": []
  },
  {
   "cell_type": "code",
   "execution_count": null,
   "id": "7f6f6996-1cb8-4866-a9fa-c417657be635",
   "metadata": {},
   "outputs": [],
   "source": []
  },
  {
   "cell_type": "code",
   "execution_count": null,
   "id": "13dce1d4-8a15-4fdc-aff6-6174126800e8",
   "metadata": {},
   "outputs": [],
   "source": []
  },
  {
   "cell_type": "code",
   "execution_count": null,
   "id": "37c84f0a-27ef-4963-a3a9-944ab3fcc449",
   "metadata": {},
   "outputs": [],
   "source": []
  },
  {
   "cell_type": "code",
   "execution_count": null,
   "id": "455200ea-f114-4f49-9109-e6b0c32342cd",
   "metadata": {},
   "outputs": [],
   "source": []
  },
  {
   "cell_type": "code",
   "execution_count": null,
   "id": "d8f18b5e-4901-4b3a-bcc5-8d61fef51a89",
   "metadata": {},
   "outputs": [],
   "source": []
  },
  {
   "cell_type": "code",
   "execution_count": null,
   "id": "2b6061a3-0daf-4b9e-a2f2-13dcbfda2492",
   "metadata": {},
   "outputs": [],
   "source": []
  },
  {
   "cell_type": "code",
   "execution_count": null,
   "id": "00532e29-766e-4f7e-91ce-59eaab85fa97",
   "metadata": {},
   "outputs": [],
   "source": []
  },
  {
   "cell_type": "code",
   "execution_count": null,
   "id": "efdedd5c-4ef9-42c2-abd2-cf63e34366e5",
   "metadata": {},
   "outputs": [],
   "source": []
  },
  {
   "cell_type": "code",
   "execution_count": null,
   "id": "d8f270ae-6841-4a16-ac04-3174cfd7f7a7",
   "metadata": {},
   "outputs": [],
   "source": []
  },
  {
   "cell_type": "code",
   "execution_count": null,
   "id": "7ea0fa4b-b975-4785-b8b6-9ce8c05131ee",
   "metadata": {},
   "outputs": [],
   "source": []
  },
  {
   "cell_type": "code",
   "execution_count": null,
   "id": "e18c6c10-9cd5-4f74-8ac2-d3b34eaa66c5",
   "metadata": {},
   "outputs": [],
   "source": []
  },
  {
   "cell_type": "code",
   "execution_count": null,
   "id": "c3d4853c-aefc-4c2c-a09b-22c325bf1a70",
   "metadata": {},
   "outputs": [],
   "source": []
  },
  {
   "cell_type": "code",
   "execution_count": null,
   "id": "52f6f029-62ef-46b8-add3-bbb05d472d47",
   "metadata": {},
   "outputs": [],
   "source": []
  },
  {
   "cell_type": "code",
   "execution_count": null,
   "id": "92e0c243-0f75-4e59-93aa-b42a9ccdeed4",
   "metadata": {},
   "outputs": [],
   "source": []
  },
  {
   "cell_type": "code",
   "execution_count": null,
   "id": "52eb58d8-5aa9-4d5e-802b-6464e7408c9e",
   "metadata": {},
   "outputs": [],
   "source": []
  },
  {
   "cell_type": "code",
   "execution_count": null,
   "id": "2829a483-06c3-42ca-90f0-903da5354415",
   "metadata": {},
   "outputs": [],
   "source": []
  },
  {
   "cell_type": "code",
   "execution_count": null,
   "id": "a75d032f-65a7-435b-987e-322bcc28aec4",
   "metadata": {},
   "outputs": [],
   "source": []
  },
  {
   "cell_type": "code",
   "execution_count": null,
   "id": "ee043155-60e1-4525-905a-95b011305e8f",
   "metadata": {},
   "outputs": [],
   "source": []
  },
  {
   "cell_type": "code",
   "execution_count": null,
   "id": "6ba6617c-ba40-4cd2-af38-c1fe713b8e5b",
   "metadata": {},
   "outputs": [],
   "source": []
  },
  {
   "cell_type": "code",
   "execution_count": null,
   "id": "2adb4151-8866-4552-9ab9-548fadac2a9c",
   "metadata": {},
   "outputs": [],
   "source": []
  },
  {
   "cell_type": "code",
   "execution_count": null,
   "id": "bdbc4cdf-bd75-46d4-a84b-91349285b66a",
   "metadata": {},
   "outputs": [],
   "source": []
  },
  {
   "cell_type": "code",
   "execution_count": null,
   "id": "8f0fc7e7-8593-4675-9ed7-134071ec93f9",
   "metadata": {},
   "outputs": [],
   "source": []
  },
  {
   "cell_type": "code",
   "execution_count": null,
   "id": "f604f823-cafb-4677-b608-4ade79f524c9",
   "metadata": {},
   "outputs": [],
   "source": []
  },
  {
   "cell_type": "code",
   "execution_count": null,
   "id": "1e7ce47c-24d2-481b-8d88-a16a6ffa44c4",
   "metadata": {},
   "outputs": [],
   "source": []
  },
  {
   "cell_type": "code",
   "execution_count": null,
   "id": "83b144bf-f842-4773-b5e6-d5e250e89b6e",
   "metadata": {},
   "outputs": [],
   "source": []
  },
  {
   "cell_type": "code",
   "execution_count": null,
   "id": "b052f3c8-0552-48c3-8401-b9b7f6c861d7",
   "metadata": {},
   "outputs": [],
   "source": []
  },
  {
   "cell_type": "code",
   "execution_count": null,
   "id": "24c28aaa-cecf-4885-a911-6df22caad181",
   "metadata": {},
   "outputs": [],
   "source": []
  },
  {
   "cell_type": "code",
   "execution_count": null,
   "id": "9a8c55c7-c9e1-4c1a-ba6e-33fd1f5d49ac",
   "metadata": {},
   "outputs": [],
   "source": []
  },
  {
   "cell_type": "code",
   "execution_count": null,
   "id": "0b2cea1e-c805-4fb2-be00-26708fa160b6",
   "metadata": {},
   "outputs": [],
   "source": []
  },
  {
   "cell_type": "code",
   "execution_count": null,
   "id": "1a7c3354-242a-42a4-936b-7125fb3a2a6f",
   "metadata": {},
   "outputs": [],
   "source": []
  },
  {
   "cell_type": "code",
   "execution_count": null,
   "id": "7cde69ce-b92b-468f-a3d6-efa015a6aea3",
   "metadata": {},
   "outputs": [],
   "source": []
  },
  {
   "cell_type": "code",
   "execution_count": null,
   "id": "56aafa33-d0e0-4670-9a85-0edf6ef74f2b",
   "metadata": {},
   "outputs": [],
   "source": []
  },
  {
   "cell_type": "code",
   "execution_count": null,
   "id": "3bed04d8-b031-4b94-95fa-a2871b442c19",
   "metadata": {},
   "outputs": [],
   "source": []
  },
  {
   "cell_type": "code",
   "execution_count": null,
   "id": "263993ee-3ba8-4fcc-bdf4-778be7077fba",
   "metadata": {},
   "outputs": [],
   "source": []
  },
  {
   "cell_type": "code",
   "execution_count": null,
   "id": "50bbb769-c157-4f2b-9d30-d9d54e8e0a72",
   "metadata": {},
   "outputs": [],
   "source": []
  },
  {
   "cell_type": "code",
   "execution_count": null,
   "id": "357d2437-291f-471b-9357-3bb73a449026",
   "metadata": {},
   "outputs": [],
   "source": []
  },
  {
   "cell_type": "code",
   "execution_count": null,
   "id": "8702dd38-1b12-4722-8314-12df43e884c4",
   "metadata": {},
   "outputs": [],
   "source": []
  },
  {
   "cell_type": "code",
   "execution_count": null,
   "id": "dcdd56ec-b253-42ca-a8f3-20ffb0506fd5",
   "metadata": {},
   "outputs": [],
   "source": []
  },
  {
   "cell_type": "code",
   "execution_count": null,
   "id": "0e00c47d-b5ac-493b-9825-ac564e900f65",
   "metadata": {},
   "outputs": [],
   "source": []
  },
  {
   "cell_type": "code",
   "execution_count": null,
   "id": "cc8a5d38-0b52-4017-a6dd-67397eff0683",
   "metadata": {},
   "outputs": [],
   "source": []
  },
  {
   "cell_type": "code",
   "execution_count": null,
   "id": "07453f49-b0a9-4ef9-a396-a980cd2c4501",
   "metadata": {},
   "outputs": [],
   "source": []
  },
  {
   "cell_type": "code",
   "execution_count": null,
   "id": "71a373b0-412d-4bfc-a7df-83f0685a8fc8",
   "metadata": {},
   "outputs": [],
   "source": []
  },
  {
   "cell_type": "code",
   "execution_count": null,
   "id": "a5fab712-1778-4fa4-98fb-e437dd35598b",
   "metadata": {},
   "outputs": [],
   "source": []
  },
  {
   "cell_type": "code",
   "execution_count": null,
   "id": "a61edbdd-8f25-4888-9c9b-f3da24daf8df",
   "metadata": {},
   "outputs": [],
   "source": []
  },
  {
   "cell_type": "code",
   "execution_count": null,
   "id": "73518813-9d18-4bb1-be17-c948d77ef57b",
   "metadata": {},
   "outputs": [],
   "source": []
  },
  {
   "cell_type": "code",
   "execution_count": null,
   "id": "d742b33d-0470-44a2-b703-7f1386b45913",
   "metadata": {},
   "outputs": [],
   "source": []
  },
  {
   "cell_type": "code",
   "execution_count": null,
   "id": "41d4d0e0-cc5c-4f1a-acfd-b8821a36e937",
   "metadata": {},
   "outputs": [],
   "source": []
  },
  {
   "cell_type": "code",
   "execution_count": null,
   "id": "cfa339f4-8464-487d-a567-8ec12db64c47",
   "metadata": {},
   "outputs": [],
   "source": []
  },
  {
   "cell_type": "code",
   "execution_count": null,
   "id": "b6d2443a-158c-419c-b001-a5bb94073db1",
   "metadata": {},
   "outputs": [],
   "source": []
  },
  {
   "cell_type": "code",
   "execution_count": null,
   "id": "dd6b9328-d6cb-49d3-8895-9bee0448d80e",
   "metadata": {},
   "outputs": [],
   "source": []
  },
  {
   "cell_type": "code",
   "execution_count": null,
   "id": "92fc4ff2-3603-464b-94e8-bfae184f558e",
   "metadata": {},
   "outputs": [],
   "source": []
  },
  {
   "cell_type": "code",
   "execution_count": null,
   "id": "f1d64c79-2702-4170-9653-a0a44a14d44e",
   "metadata": {},
   "outputs": [],
   "source": []
  },
  {
   "cell_type": "code",
   "execution_count": null,
   "id": "aa31a3b9-394c-43b2-8c65-4008059c94ed",
   "metadata": {},
   "outputs": [],
   "source": []
  },
  {
   "cell_type": "code",
   "execution_count": null,
   "id": "47c1ab09-724c-4076-a1a2-0896ea5b2ca6",
   "metadata": {},
   "outputs": [],
   "source": []
  },
  {
   "cell_type": "code",
   "execution_count": null,
   "id": "7b916f74-858b-4f78-a8b9-8476d333b92d",
   "metadata": {},
   "outputs": [],
   "source": []
  },
  {
   "cell_type": "code",
   "execution_count": null,
   "id": "a1ae0f76-9f52-4c5d-aaae-b6dbc8367374",
   "metadata": {},
   "outputs": [],
   "source": []
  },
  {
   "cell_type": "code",
   "execution_count": null,
   "id": "21e644f7-319c-4ea3-bbbe-d13862b0d304",
   "metadata": {},
   "outputs": [],
   "source": []
  },
  {
   "cell_type": "code",
   "execution_count": null,
   "id": "6b626b58-67f4-4ff0-88a7-c2a9a0fbc823",
   "metadata": {},
   "outputs": [],
   "source": []
  },
  {
   "cell_type": "code",
   "execution_count": null,
   "id": "d1b1544e-c30b-49b2-97fa-c6ae28b725e7",
   "metadata": {},
   "outputs": [],
   "source": []
  },
  {
   "cell_type": "code",
   "execution_count": null,
   "id": "c775eb50-f2c0-46f2-8290-339fd9c25999",
   "metadata": {},
   "outputs": [],
   "source": []
  },
  {
   "cell_type": "code",
   "execution_count": null,
   "id": "b49d4f2b-226c-43ea-9276-c5522dea0cab",
   "metadata": {},
   "outputs": [],
   "source": []
  },
  {
   "cell_type": "code",
   "execution_count": null,
   "id": "7b11b1b2-464d-4d4f-9f24-7f395831cdcd",
   "metadata": {},
   "outputs": [],
   "source": []
  },
  {
   "cell_type": "code",
   "execution_count": null,
   "id": "a689a8c4-1864-4d54-911d-c470c4ec57ea",
   "metadata": {},
   "outputs": [],
   "source": []
  },
  {
   "cell_type": "code",
   "execution_count": null,
   "id": "a1673d6f-a793-4e2c-9393-425e9d14ba8b",
   "metadata": {},
   "outputs": [],
   "source": []
  },
  {
   "cell_type": "code",
   "execution_count": null,
   "id": "f514012c-138b-4eee-8df7-8de4557cc04b",
   "metadata": {},
   "outputs": [],
   "source": []
  },
  {
   "cell_type": "code",
   "execution_count": null,
   "id": "3f17416b-b9d4-415c-96ef-ca4318b2d524",
   "metadata": {},
   "outputs": [],
   "source": []
  },
  {
   "cell_type": "code",
   "execution_count": null,
   "id": "e10f9640-1a9e-4385-80f5-34d1b1de3bdb",
   "metadata": {},
   "outputs": [],
   "source": []
  },
  {
   "cell_type": "code",
   "execution_count": null,
   "id": "450c6399-34bb-48c9-b158-2dcbd8c5f317",
   "metadata": {},
   "outputs": [],
   "source": []
  },
  {
   "cell_type": "code",
   "execution_count": null,
   "id": "6b742134-c902-41d0-9fc6-913596137add",
   "metadata": {},
   "outputs": [],
   "source": []
  },
  {
   "cell_type": "code",
   "execution_count": null,
   "id": "a37bfec6-edaf-4d89-a6f2-b4ceaa254c8a",
   "metadata": {},
   "outputs": [],
   "source": []
  },
  {
   "cell_type": "code",
   "execution_count": null,
   "id": "96dae541-cce7-4250-8a94-46c2884ea803",
   "metadata": {},
   "outputs": [],
   "source": []
  },
  {
   "cell_type": "code",
   "execution_count": null,
   "id": "57805ce7-f4bd-46c3-9917-3be1c8e9148b",
   "metadata": {},
   "outputs": [],
   "source": []
  },
  {
   "cell_type": "code",
   "execution_count": null,
   "id": "687fe28a-5eb1-4419-bb15-fe09d9408b39",
   "metadata": {},
   "outputs": [],
   "source": []
  },
  {
   "cell_type": "code",
   "execution_count": null,
   "id": "063a7016-e8d6-482c-b451-3361feb1a35f",
   "metadata": {},
   "outputs": [],
   "source": []
  },
  {
   "cell_type": "code",
   "execution_count": null,
   "id": "69db6119-d454-4dc0-bfce-7b0fa297729b",
   "metadata": {},
   "outputs": [],
   "source": []
  },
  {
   "cell_type": "code",
   "execution_count": null,
   "id": "d35d2477-28f7-4733-be37-6712c44da653",
   "metadata": {},
   "outputs": [],
   "source": []
  },
  {
   "cell_type": "code",
   "execution_count": null,
   "id": "6e1002e8-766c-4232-b361-947a76435c99",
   "metadata": {},
   "outputs": [],
   "source": []
  },
  {
   "cell_type": "code",
   "execution_count": null,
   "id": "35207a59-5dd9-40ec-a129-926752853cd3",
   "metadata": {},
   "outputs": [],
   "source": []
  },
  {
   "cell_type": "code",
   "execution_count": null,
   "id": "d82c7de1-38df-4550-aba6-ac4045ad5683",
   "metadata": {},
   "outputs": [],
   "source": []
  },
  {
   "cell_type": "code",
   "execution_count": null,
   "id": "ba06deae-f6e2-48dd-87c8-3f7b10d586f3",
   "metadata": {},
   "outputs": [],
   "source": []
  },
  {
   "cell_type": "code",
   "execution_count": null,
   "id": "38b8f04d-d359-47b1-a882-b0174d57817b",
   "metadata": {},
   "outputs": [],
   "source": []
  },
  {
   "cell_type": "code",
   "execution_count": null,
   "id": "2a527f54-6872-41ed-9997-d48943c8e44d",
   "metadata": {},
   "outputs": [],
   "source": []
  },
  {
   "cell_type": "code",
   "execution_count": null,
   "id": "6d25c9ce-292e-4d79-b9b6-3c34e26177ef",
   "metadata": {},
   "outputs": [],
   "source": []
  },
  {
   "cell_type": "code",
   "execution_count": null,
   "id": "14d3ab4e-5e02-48a7-bb15-041dff5070a3",
   "metadata": {},
   "outputs": [],
   "source": []
  }
 ],
 "metadata": {
  "kernelspec": {
   "display_name": "Python 3 (ipykernel)",
   "language": "python",
   "name": "python3"
  },
  "language_info": {
   "codemirror_mode": {
    "name": "ipython",
    "version": 3
   },
   "file_extension": ".py",
   "mimetype": "text/x-python",
   "name": "python",
   "nbconvert_exporter": "python",
   "pygments_lexer": "ipython3",
   "version": "3.12.7"
  }
 },
 "nbformat": 4,
 "nbformat_minor": 5
}
