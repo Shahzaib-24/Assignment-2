{
 "cells": [
  {
   "cell_type": "code",
   "execution_count": 2,
   "id": "18edd922-45aa-451f-9d5f-b47b99a4d65c",
   "metadata": {},
   "outputs": [],
   "source": [
    "salaries = ['20k', '40k', '50k', '60k', '35k', '89k','40k']"
   ]
  },
  {
   "cell_type": "code",
   "execution_count": 68,
   "id": "59d89748-7002-4006-b5c4-23470c71cc3a",
   "metadata": {},
   "outputs": [
    {
     "data": {
      "text/plain": [
       "['20k', '40k', '50k', '60k', '35k', '89k', '40k']"
      ]
     },
     "execution_count": 68,
     "metadata": {},
     "output_type": "execute_result"
    }
   ],
   "source": [
    "salaries"
   ]
  },
  {
   "cell_type": "code",
   "execution_count": 6,
   "id": "e64f3aad-7800-4dd1-b33c-16a3be3495b8",
   "metadata": {},
   "outputs": [
    {
     "data": {
      "text/plain": [
       "7"
      ]
     },
     "execution_count": 6,
     "metadata": {},
     "output_type": "execute_result"
    }
   ],
   "source": [
    "len(salaries)"
   ]
  },
  {
   "cell_type": "code",
   "execution_count": 7,
   "id": "3a9281f4-7cdb-43a7-9831-ef280597bfdf",
   "metadata": {},
   "outputs": [
    {
     "data": {
      "text/plain": [
       "'50k'"
      ]
     },
     "execution_count": 7,
     "metadata": {},
     "output_type": "execute_result"
    }
   ],
   "source": [
    "salaries[2]"
   ]
  },
  {
   "cell_type": "code",
   "execution_count": 8,
   "id": "99d99a60-40ad-4eaa-8d3c-d5ac6c416d2e",
   "metadata": {},
   "outputs": [
    {
     "data": {
      "text/plain": [
       "'40k'"
      ]
     },
     "execution_count": 8,
     "metadata": {},
     "output_type": "execute_result"
    }
   ],
   "source": [
    "salaries[-1]"
   ]
  },
  {
   "cell_type": "code",
   "execution_count": 11,
   "id": "62e1382f-3598-44ba-ad7c-c60e5f731c4c",
   "metadata": {},
   "outputs": [
    {
     "data": {
      "text/plain": [
       "['50k', '60k', '35k']"
      ]
     },
     "execution_count": 11,
     "metadata": {},
     "output_type": "execute_result"
    }
   ],
   "source": [
    "salaries[2:5]"
   ]
  },
  {
   "cell_type": "code",
   "execution_count": 69,
   "id": "090cc73e-a6eb-4042-bbc0-81a779b12ddc",
   "metadata": {},
   "outputs": [],
   "source": [
    "salaries.append('100k')"
   ]
  },
  {
   "cell_type": "code",
   "execution_count": 70,
   "id": "d0bac4ec-0847-4282-b95c-9e33a7e5a1e5",
   "metadata": {},
   "outputs": [
    {
     "data": {
      "text/plain": [
       "['20k', '40k', '50k', '60k', '35k', '89k', '40k', '100k']"
      ]
     },
     "execution_count": 70,
     "metadata": {},
     "output_type": "execute_result"
    }
   ],
   "source": [
    "salaries"
   ]
  },
  {
   "cell_type": "code",
   "execution_count": 77,
   "id": "d83fe310-8edc-4cea-a5f9-8cae1a591869",
   "metadata": {},
   "outputs": [
    {
     "data": {
      "text/plain": [
       "['20k', '90k', '40k', '55k', '60k', '35k', '89k', '40k', '100k', '150k']"
      ]
     },
     "execution_count": 77,
     "metadata": {},
     "output_type": "execute_result"
    }
   ],
   "source": [
    "salaries+['150k']"
   ]
  },
  {
   "cell_type": "code",
   "execution_count": 82,
   "id": "9c20de4b-d8cb-4082-8709-f3a0391ecd0b",
   "metadata": {},
   "outputs": [
    {
     "data": {
      "text/plain": [
       "['20k', '90k', '40k', '55k', '60k', '35k', '89k', '40k', '100k']"
      ]
     },
     "execution_count": 82,
     "metadata": {},
     "output_type": "execute_result"
    }
   ],
   "source": [
    "salaries"
   ]
  },
  {
   "cell_type": "code",
   "execution_count": 72,
   "id": "2dded005-56d1-4bf6-b62a-c6f962dded55",
   "metadata": {},
   "outputs": [],
   "source": [
    "salaries[2]=\"55k\""
   ]
  },
  {
   "cell_type": "code",
   "execution_count": 73,
   "id": "739f2d10-872e-42cb-9af3-54a742920174",
   "metadata": {},
   "outputs": [
    {
     "data": {
      "text/plain": [
       "['20k', '40k', '55k', '60k', '35k', '89k', '40k', '100k']"
      ]
     },
     "execution_count": 73,
     "metadata": {},
     "output_type": "execute_result"
    }
   ],
   "source": [
    "salaries"
   ]
  },
  {
   "cell_type": "code",
   "execution_count": 54,
   "id": "04c8d4e4-4cbe-42d9-9e80-d887d5bdeab3",
   "metadata": {},
   "outputs": [
    {
     "data": {
      "text/plain": [
       "2"
      ]
     },
     "execution_count": 54,
     "metadata": {},
     "output_type": "execute_result"
    }
   ],
   "source": [
    "salaries.count('40k')"
   ]
  },
  {
   "cell_type": "code",
   "execution_count": 74,
   "id": "7ab34d69-5145-4573-826f-449adc21c0a2",
   "metadata": {},
   "outputs": [],
   "source": [
    "salaries.insert(1,'90k')"
   ]
  },
  {
   "cell_type": "code",
   "execution_count": 81,
   "id": "8c5d0dcb-e8cd-4189-9c27-ee066d90e614",
   "metadata": {},
   "outputs": [
    {
     "data": {
      "text/plain": [
       "['20k', '90k', '40k', '55k', '60k', '35k', '89k', '40k', '100k']"
      ]
     },
     "execution_count": 81,
     "metadata": {},
     "output_type": "execute_result"
    }
   ],
   "source": [
    "salaries"
   ]
  },
  {
   "cell_type": "code",
   "execution_count": 79,
   "id": "6debd456-3a85-4497-90d7-9c0a4f4d179b",
   "metadata": {},
   "outputs": [
    {
     "name": "stdout",
     "output_type": "stream",
     "text": [
      "['100k', '40k', '89k', '35k', '60k', '55k', '40k', '90k', '20k']\n"
     ]
    }
   ],
   "source": [
    "print(salaries[::-1])"
   ]
  },
  {
   "cell_type": "code",
   "execution_count": 4,
   "id": "4f103d78-38bd-486a-b5a8-f173f7c2fd4f",
   "metadata": {},
   "outputs": [
    {
     "data": {
      "text/plain": [
       "['40k', '89k', '35k', '60k', '50k', '40k', '20k']"
      ]
     },
     "execution_count": 4,
     "metadata": {},
     "output_type": "execute_result"
    }
   ],
   "source": [
    "salaries[::-1]"
   ]
  },
  {
   "cell_type": "code",
   "execution_count": null,
   "id": "3caf85a9-e628-4c95-a200-0ce404043cf3",
   "metadata": {},
   "outputs": [],
   "source": []
  }
 ],
 "metadata": {
  "kernelspec": {
   "display_name": "Python 3 (ipykernel)",
   "language": "python",
   "name": "python3"
  },
  "language_info": {
   "codemirror_mode": {
    "name": "ipython",
    "version": 3
   },
   "file_extension": ".py",
   "mimetype": "text/x-python",
   "name": "python",
   "nbconvert_exporter": "python",
   "pygments_lexer": "ipython3",
   "version": "3.12.7"
  }
 },
 "nbformat": 4,
 "nbformat_minor": 5
}
