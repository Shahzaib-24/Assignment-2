{
 "cells": [
  {
   "cell_type": "markdown",
   "id": "0d94c707-fcd3-4fac-88a0-5f0bab3e833e",
   "metadata": {},
   "source": [
    "Q1. My_tuple = ( (1, 2, 3), [4, 5, 6], ('apple', 'banana', 'cherry'), [7, 8, 9] )\n",
    "• Print all elements from my_tuple on a new line (using for loop)\n",
    "• Create a new tuple by concatenating the first and last elements of my_tuple"
   ]
  },
  {
   "cell_type": "code",
   "execution_count": null,
   "id": "10ce94f2-d6be-4b40-84fa-ed98b55b982b",
   "metadata": {},
   "outputs": [],
   "source": [
    "# Solution - 1"
   ]
  },
  {
   "cell_type": "code",
   "execution_count": 22,
   "id": "751f4220-cf22-45ce-9748-4097e777cce6",
   "metadata": {},
   "outputs": [
    {
     "name": "stdout",
     "output_type": "stream",
     "text": [
      "(1, 2, 3)\n",
      "[4, 5, 6]\n",
      "('apple', 'banana', 'cherry')\n",
      "[7, 8, 9]\n",
      "(1, 2, 3, 7, 8, 9)\n"
     ]
    }
   ],
   "source": [
    "my_tuple = ((1, 2, 3), [4, 5, 6], ('apple', 'banana', 'cherry'), [7, 8, 9])\n",
    "for item in my_tuple:\n",
    "    print(item)\n",
    "new_tuple = my_tuple[0] + tuple(my_tuple[-1])\n",
    "print(new_tuple)"
   ]
  },
  {
   "cell_type": "markdown",
   "id": "a10e0388-e9e1-4db7-9b41-d86bab05d56c",
   "metadata": {},
   "source": [
    "Q2. inventory = { \"The Great Gatsby\": {\"price\": 10.99, \"quantity\": 5}, \"Rich dad poor dad\": {\"price\": 8.99, \"quantity\": 8}, \"Harry Potter\": {\"price\": 12.50, \"quantity\": 2}, }\n",
    "• Add a new book in inventory using method and get all book titles using method\n",
    "• Remove a book if it's out of stock"
   ]
  },
  {
   "cell_type": "code",
   "execution_count": null,
   "id": "a04f9824-5ecd-4eda-8fa4-c13499cc487a",
   "metadata": {},
   "outputs": [],
   "source": [
    "# Solution - 2"
   ]
  },
  {
   "cell_type": "code",
   "execution_count": 19,
   "id": "2434d775-3f2f-4b8d-9c56-aae3d79fd95b",
   "metadata": {},
   "outputs": [
    {
     "name": "stdout",
     "output_type": "stream",
     "text": [
      "All Book Titles: ['The Great Gatsby', 'Rich dad poor dad', 'Harry Potter', 'The Ottoman Empire History']\n",
      "\n",
      "Updated Inventory (after removing out-of-stock books):\n",
      "{'The Great Gatsby': {'price': 10.99, 'quantity': 5}, 'Rich dad poor dad': {'price': 8.99, 'quantity': 8}, 'Harry Potter': {'price': 12.5, 'quantity': 2}}\n"
     ]
    }
   ],
   "source": [
    "inventory = {\n",
    "    \"The Great Gatsby\": {\"price\": 10.99, \"quantity\": 5},\n",
    "    \"Rich dad poor dad\": {\"price\": 8.99, \"quantity\": 8},\n",
    "    \"Harry Potter\": {\"price\": 12.50, \"quantity\": 2},\n",
    "}\n",
    "\n",
    "def add_book(inventory, title, price, quantity):\n",
    "    inventory[title] = {\"price\": price, \"quantity\": quantity}\n",
    "\n",
    "def get_all_titles(inventory):\n",
    "    return list(inventory.keys())\n",
    "\n",
    "def remove_out_of_stock_books(inventory):\n",
    "    books_to_remove = [title for title, details in inventory.items() if details[\"quantity\"] == 0]\n",
    "    for title in books_to_remove:\n",
    "        del inventory[title]\n",
    "\n",
    "add_book(inventory, \"The Ottoman Empire History\", 15.99, 0)\n",
    "\n",
    "book_titles = get_all_titles(inventory)\n",
    "print(\"All Book Titles:\", book_titles)\n",
    "\n",
    "remove_out_of_stock_books(inventory)\n",
    "print(\"\\nUpdated Inventory (after removing out-of-stock books):\")\n",
    "print(inventory)\n"
   ]
  },
  {
   "cell_type": "markdown",
   "id": "2a98b728-e41e-4d7e-bd42-46d2772f37da",
   "metadata": {},
   "source": [
    "Q3. An ecommerce store stores information about its products in a nested dictionary. The outer\n",
    "dictionary uses product IDs as keys, and the inner dictionary stores product details like name,\n",
    "category, price, and stock quantity.\n",
    "products = { 101: {\"name\": \"Laptop\", \"category\": \"Electronics\", \"price\": 1200, \"stock\": 50}, 102:\n",
    "{\"name\": \"Shirt\", \"category\": \"Apparel\", \"price\": 25, \"stock\": 200}, 103: {\"name\": \"Coffee Maker\",\n",
    "\"category\": \"Home Appliances\", \"price\": 80, \"stock\": 30} }\n",
    "• Increase the stock of the \"Shirt\" product (add 50 more units)\n",
    "• Add a new product (e.g., \"Smartphone\")"
   ]
  },
  {
   "cell_type": "code",
   "execution_count": null,
   "id": "83508294-bab5-4b36-bf9b-a6c18d8fc68b",
   "metadata": {},
   "outputs": [],
   "source": [
    "# Solution - 3"
   ]
  },
  {
   "cell_type": "code",
   "execution_count": 21,
   "id": "a6ac585f-b5ee-4119-a351-f8ddf9a78c19",
   "metadata": {},
   "outputs": [
    {
     "name": "stdout",
     "output_type": "stream",
     "text": [
      "{101: {'name': 'Laptop', 'category': 'Electronics', 'price': 1200, 'stock': 50}, 102: {'name': 'Shirt', 'category': 'Apparel', 'price': 25, 'stock': 250}, 103: {'name': 'Coffee Maker', 'category': 'Home Appliances', 'price': 80, 'stock': 30}, 104: {'name': 'Smartphone', 'category': 'Electronics', 'price': 500, 'stock': 100}}\n"
     ]
    }
   ],
   "source": [
    "products = {\n",
    "    101: {\"name\": \"Laptop\", \"category\": \"Electronics\", \"price\": 1200, \"stock\": 50},\n",
    "    102: {\"name\": \"Shirt\", \"category\": \"Apparel\", \"price\": 25, \"stock\": 200},\n",
    "    103: {\"name\": \"Coffee Maker\", \"category\": \"Home Appliances\", \"price\": 80, \"stock\": 30}\n",
    "}\n",
    "products[102][\"stock\"] += 50\n",
    "\n",
    "products[104] = {\n",
    "    \"name\": \"Smartphone\",\n",
    "    \"category\": \"Electronics\",\n",
    "    \"price\": 500,\n",
    "    \"stock\": 100\n",
    "}\n",
    "\n",
    "print(products)\n"
   ]
  },
  {
   "cell_type": "markdown",
   "id": "3f5fad03-4dbe-498c-ad5a-7392d2bb0438",
   "metadata": {},
   "source": [
    "Q4. You are given a list that contains some duplicate items. Remove the duplicates by converting the\n",
    "list to a set.\n",
    "shopping_list = [\"apple\", \"banana\", \"apple\", \"orange\", \"banana\", \"grape\"]"
   ]
  },
  {
   "cell_type": "code",
   "execution_count": null,
   "id": "50af4124-0d81-4228-88c3-87b60e3bf43c",
   "metadata": {},
   "outputs": [],
   "source": [
    "# Solution - 4"
   ]
  },
  {
   "cell_type": "code",
   "execution_count": 27,
   "id": "27708d8c-d8f1-4095-8176-d8e4a140fce6",
   "metadata": {},
   "outputs": [
    {
     "name": "stdout",
     "output_type": "stream",
     "text": [
      "{'apple', 'grape', 'orange', 'banana'}\n"
     ]
    }
   ],
   "source": [
    "shopping_list = [\"apple\", \"banana\", \"apple\", \"orange\", \"banana\", \"grape\"]\n",
    "\n",
    "# Convert the list to a set to remove duplicates\n",
    "unique_items = set(shopping_list)\n",
    "\n",
    "print(unique_items)"
   ]
  },
  {
   "cell_type": "markdown",
   "id": "431c1f85-62cc-47b9-89df-6ddd8f55ad22",
   "metadata": {},
   "source": [
    "Q5. You are managing a list of students enrolled in two different courses. You need to perform\n",
    "various set operations to understand the student enrollment. Task: Create two sets: one for students\n",
    "in \"Course A\" and one for students in \"Course B\". Find the students who are in \"Course A\" but not in\n",
    "\"Course B\" (difference). Find students who are only in one of the two courses (symmetric difference).\n",
    "course_a = {\"John\", \"Alice\", \"Bob\", \"David\"} course_b = {\"Alice\", \"Eve\", \"Charlie\", \"David\"}\n",
    "• Find students who are in Course A but not in Course B (difference)\n",
    "• Find students who are only in one of the two courses (symmetric difference)"
   ]
  },
  {
   "cell_type": "code",
   "execution_count": null,
   "id": "e103eefb-4d19-4ea9-9648-dcc4865d6b8b",
   "metadata": {},
   "outputs": [],
   "source": [
    "# Solution - 5"
   ]
  },
  {
   "cell_type": "code",
   "execution_count": 29,
   "id": "06eee2eb-1418-490b-b6d4-545c82e3eff3",
   "metadata": {},
   "outputs": [
    {
     "name": "stdout",
     "output_type": "stream",
     "text": [
      "Students in Course A but not in Course B: {'John', 'Bob'}\n",
      "Students in only one of the two courses: {'John', 'Charlie', 'Bob', 'Eve'}\n"
     ]
    }
   ],
   "source": [
    "course_a = {\"John\", \"Alice\", \"Bob\", \"David\"}\n",
    "course_b = {\"Alice\", \"Eve\", \"Charlie\", \"David\"}\n",
    "\n",
    "difference = course_a - course_b\n",
    "symmetric_difference = course_a ^ course_b\n",
    "\n",
    "print(\"Students in Course A but not in Course B:\", difference)\n",
    "print(\"Students in only one of the two courses:\", symmetric_difference)\n"
   ]
  },
  {
   "cell_type": "markdown",
   "id": "a2599767-1413-4bda-a720-ad5d84aa9297",
   "metadata": {},
   "source": [
    "Q6. Write a Python program that calculates the sum of all even numbers between 1 and 50\n",
    "(inclusive) using a for loop.\n",
    "Hint\n",
    "1. Initialize a variable to hold the sum (e.g., sum_of_evens).\n",
    "2. Use a for loop to iterate through all numbers from 1 to 50.\n",
    "3. Inside the loop, check if the number is even.\n",
    "4. If the number is even, add it to sum_of_evens.\n",
    "5. After the loop finishes, print the total sum of all even numbers between 1 and 50."
   ]
  },
  {
   "cell_type": "code",
   "execution_count": null,
   "id": "3acf4b17-e38a-4842-88f3-26f286fc7047",
   "metadata": {},
   "outputs": [],
   "source": [
    "# Solution - 6"
   ]
  },
  {
   "cell_type": "code",
   "execution_count": 30,
   "id": "1d29fcbb-9bc4-4ad3-a2f2-3086f81129d4",
   "metadata": {},
   "outputs": [
    {
     "name": "stdout",
     "output_type": "stream",
     "text": [
      "The sum of all even numbers between 1 and 50 is: 650\n"
     ]
    }
   ],
   "source": [
    "# Initialize a variable to hold the sum of even numbers\n",
    "sum_of_evens = 0\n",
    "\n",
    "# Use a for loop to iterate through all numbers from 1 to 50 (inclusive)\n",
    "for number in range(1, 51):\n",
    "    # Check if the number is even\n",
    "    if number % 2 == 0:\n",
    "        # Add the even number to the sum\n",
    "        sum_of_evens += number\n",
    "\n",
    "# Print the total sum of even numbers\n",
    "print(\"The sum of all even numbers between 1 and 50 is:\", sum_of_evens)\n"
   ]
  }
 ],
 "metadata": {
  "kernelspec": {
   "display_name": "Python 3 (ipykernel)",
   "language": "python",
   "name": "python3"
  },
  "language_info": {
   "codemirror_mode": {
    "name": "ipython",
    "version": 3
   },
   "file_extension": ".py",
   "mimetype": "text/x-python",
   "name": "python",
   "nbconvert_exporter": "python",
   "pygments_lexer": "ipython3",
   "version": "3.12.7"
  }
 },
 "nbformat": 4,
 "nbformat_minor": 5
}
